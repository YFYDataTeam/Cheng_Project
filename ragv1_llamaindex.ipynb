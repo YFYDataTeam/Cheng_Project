{
 "cells": [
  {
   "cell_type": "code",
   "execution_count": 20,
   "metadata": {},
   "outputs": [],
   "source": [
    "import pandas as pd\n",
    "from datetime import datetime\n",
    "\n",
    "from IPython.display import display\n",
    "from IPython.display import Markdown\n",
    "\n",
    "# 先確認目前目錄，from {檔案路徑/.py} import {function}\n",
    "from src.utils import read_config, OracleAgent\n",
    "\n",
    "from llama_index.core.schema import Document\n",
    "from llama_index.embeddings.huggingface import HuggingFaceEmbedding\n",
    "from llama_index.core import VectorStoreIndex, StorageContext, Settings\n",
    "from llama_index.vector_stores.chroma import ChromaVectorStore\n",
    "\n",
    "import chromadb"
   ]
  },
  {
   "cell_type": "markdown",
   "metadata": {},
   "source": [
    "取得根目錄\n"
   ]
  },
  {
   "cell_type": "code",
   "execution_count": null,
   "metadata": {},
   "outputs": [],
   "source": [
    "import os\n",
    "os.getcwd()"
   ]
  },
  {
   "cell_type": "code",
   "execution_count": 22,
   "metadata": {},
   "outputs": [],
   "source": [
    "info_path = '.env/info.json'\n",
    "info = read_config(info_path)"
   ]
  },
  {
   "cell_type": "code",
   "execution_count": 4,
   "metadata": {},
   "outputs": [],
   "source": [
    "oracle_agent = OracleAgent(info['DW_conn_info'])"
   ]
  },
  {
   "cell_type": "code",
   "execution_count": 5,
   "metadata": {},
   "outputs": [],
   "source": [
    "query = \"\"\"\n",
    "select rowid, dashboard_name, report_name, page_name, pic_name, llm as description\n",
    "from bi_dashboard\n",
    "\"\"\"\n",
    "\n",
    "df_dashboard = oracle_agent.read_table(query=query)"
   ]
  },
  {
   "cell_type": "code",
   "execution_count": 6,
   "metadata": {},
   "outputs": [
    {
     "data": {
      "text/html": [
       "<div>\n",
       "<style scoped>\n",
       "    .dataframe tbody tr th:only-of-type {\n",
       "        vertical-align: middle;\n",
       "    }\n",
       "\n",
       "    .dataframe tbody tr th {\n",
       "        vertical-align: top;\n",
       "    }\n",
       "\n",
       "    .dataframe thead th {\n",
       "        text-align: right;\n",
       "    }\n",
       "</style>\n",
       "<table border=\"1\" class=\"dataframe\">\n",
       "  <thead>\n",
       "    <tr style=\"text-align: right;\">\n",
       "      <th></th>\n",
       "      <th>rowid</th>\n",
       "      <th>dashboard_name</th>\n",
       "      <th>report_name</th>\n",
       "      <th>page_name</th>\n",
       "      <th>pic_name</th>\n",
       "      <th>description</th>\n",
       "    </tr>\n",
       "  </thead>\n",
       "  <tbody>\n",
       "    <tr>\n",
       "      <th>0</th>\n",
       "      <td>AAi0soABZAAAACLAAC</td>\n",
       "      <td>投控經營分析</td>\n",
       "      <td>華紙-營運績效分析月報</td>\n",
       "      <td>紙機生產狀況</td>\n",
       "      <td>紙機生產狀況-得率趨勢圖.jpg</td>\n",
       "      <td>這張圖表顯示的是 2024 年 1 月到 5 月的月度效率數據。圖表上的數字代表各個月的效率...</td>\n",
       "    </tr>\n",
       "    <tr>\n",
       "      <th>1</th>\n",
       "      <td>AAi0soABZAAAACLAAF</td>\n",
       "      <td>投控經營分析</td>\n",
       "      <td>華紙-營運績效分析月報</td>\n",
       "      <td>號機直接法損益</td>\n",
       "      <td>號機直接法損益-完整畫面.jpg</td>\n",
       "      <td>這張圖片包含了一份營運績效分析月報，其中包含以下指標：\\n\\n**成本**:\\n* 銷貨成本...</td>\n",
       "    </tr>\n",
       "  </tbody>\n",
       "</table>\n",
       "</div>"
      ],
      "text/plain": [
       "                rowid dashboard_name  report_name page_name          pic_name  \\\n",
       "0  AAi0soABZAAAACLAAC         投控經營分析  華紙-營運績效分析月報    紙機生產狀況  紙機生產狀況-得率趨勢圖.jpg   \n",
       "1  AAi0soABZAAAACLAAF         投控經營分析  華紙-營運績效分析月報   號機直接法損益  號機直接法損益-完整畫面.jpg   \n",
       "\n",
       "                                         description  \n",
       "0  這張圖表顯示的是 2024 年 1 月到 5 月的月度效率數據。圖表上的數字代表各個月的效率...  \n",
       "1  這張圖片包含了一份營運績效分析月報，其中包含以下指標：\\n\\n**成本**:\\n* 銷貨成本...  "
      ]
     },
     "execution_count": 6,
     "metadata": {},
     "output_type": "execute_result"
    }
   ],
   "source": [
    "df_dashboard.head(2)"
   ]
  },
  {
   "cell_type": "code",
   "execution_count": 7,
   "metadata": {},
   "outputs": [
    {
     "data": {
      "text/markdown": [
       "這張圖表顯示了生產製造成本的組成，可以帮助你了解不同項目在生產成本中所占的比例。\n",
       "\n",
       "**主要分析指標：**\n",
       "\n",
       "* **生產製造成本的總金額：** 顯示了總的生產製造成本。\n",
       "* **各項成本的金額：** 顯示了不同項目在生產成本中的具體金額。\n",
       "* **各項成本的百分比：** 顯示了不同項目在生產成本中所占的比例。 \n",
       "* **累積百分比：** 顯示了累積的成本比例，可以帮助你快速了解不同項目的成本佔比。\n",
       "\n",
       "**可以查詢的指標：**\n",
       "\n",
       "* **各項成本的金額和百分比：** 您可以查看不同項目的成本金額和百分比，例如：\n",
       "    * **原料：** 顯示了原材料的成本。\n",
       "    * **電力：** 顯示了電力的成本。\n",
       "    * **製造成本：** 顯示了生產過程中的成本。\n",
       "    * **人工：** 顯示了人工成本。\n",
       "    * **其他：** 顯示了其他成本。\n",
       "* **累積百分比：** 您可以查看累積百分比，例如：\n",
       "    * **原料的累積百分比：** 顯示了原材料成本佔總成本的比例。\n",
       "    * **原料和電力的累積百分比：** 顯示了原材料和電力成本佔總成本的比例。\n",
       "    * **所有成本的累積百分比：** 顯示了所有成本佔總成本的比例，應該為 100%。\n",
       "\n",
       "**用途：**\n",
       "\n",
       "這張圖表可以帮助您：\n",
       "\n",
       "* 了解生產製造成本的組成。\n",
       "* 分析不同項目的成本佔比。\n",
       "* 找出成本的主要來源。\n",
       "* 評估成本控制的成效。\n",
       "\n",
       "**注意事項：**\n",
       "\n",
       "* 圖表中顯示的數據是特定時間點的數據，可能不代表長期趨勢。\n",
       "* 圖表中沒有提供成本變化的趨勢信息。\n",
       "* 圖表中沒有提供成本控制措施的信息。\n"
      ],
      "text/plain": [
       "<IPython.core.display.Markdown object>"
      ]
     },
     "execution_count": 7,
     "metadata": {},
     "output_type": "execute_result"
    }
   ],
   "source": [
    "Markdown(df_dashboard[df_dashboard['rowid'] == 'AAi0soABZAAAACUAAH'].description.values[0])"
   ]
  },
  {
   "cell_type": "code",
   "execution_count": 9,
   "metadata": {},
   "outputs": [],
   "source": [
    "model_name = \"sentence-transformers/distiluse-base-multilingual-cased-v1\"\n",
    "embeddings = HuggingFaceEmbedding(model_name=model_name)"
   ]
  },
  {
   "cell_type": "code",
   "execution_count": 13,
   "metadata": {},
   "outputs": [],
   "source": [
    "chroma_client = chromadb.PersistentClient(path=\"./chroma_db\")\n",
    "chroma_collection = chroma_client.get_or_create_collection(\"DashboardQA\")"
   ]
  },
  {
   "cell_type": "code",
   "execution_count": 15,
   "metadata": {},
   "outputs": [],
   "source": [
    "# list comprehension\n",
    "def df_to_documents(df):\n",
    "   return [Document(text=row['description'], metadata={col: row[col] for col in df.columns if col != 'descriptoin'}) for _, row in df.iterrows()]"
   ]
  },
  {
   "cell_type": "code",
   "execution_count": 17,
   "metadata": {},
   "outputs": [],
   "source": [
    "documents = df_to_documents(df_dashboard)"
   ]
  },
  {
   "cell_type": "code",
   "execution_count": 21,
   "metadata": {},
   "outputs": [],
   "source": [
    "# store in vectordb\n",
    "Settings.chunk_size = 1024\n",
    "Settings.chunk_overlap = 50\n",
    "vector_store = ChromaVectorStore(chroma_collection=chroma_collection)\n",
    "storage_context = StorageContext.from_defaults(vector_store=vector_store)\n",
    "vector_store_index = VectorStoreIndex.from_documents(\n",
    "   documents=documents,\n",
    "   storage_context=storage_context,\n",
    "   embed_model=embeddings\n",
    ")"
   ]
  },
  {
   "cell_type": "code",
   "execution_count": 23,
   "metadata": {},
   "outputs": [],
   "source": [
    "# load from disk\n",
    "db2 = chromadb.PersistentClient(path=\"./chroma_db\")\n",
    "chroma_collection = db2.get_or_create_collection(\"DashboardQA\")\n",
    "vector_store = ChromaVectorStore(chroma_collection=chroma_collection)\n",
    "index = VectorStoreIndex.from_vector_store(\n",
    "   vector_store,\n",
    "   embed_model=embeddings,\n",
    ")"
   ]
  },
  {
   "cell_type": "code",
   "execution_count": 24,
   "metadata": {},
   "outputs": [
    {
     "data": {
      "text/markdown": [
       "Node ID: 7d4d2ccd-3a81-4b7d-831f-64a1eadd3a6a\n",
       "Text: 這張圖片顯示了一份華紙營運績效分析月報，包含了各事業部的相關分析指標。表格中顯示了以下指標：  **本月** - 銷售收入 -\n",
       "銷售成本 - 銷售毛利 - 營業利益 - 稅前淨利  **全年累計** - 銷售收入 - 銷售成本 - 銷售毛利 - 營業利益 - 稅前淨利\n",
       "- 年度預算 - 達成率  表格中的商品類別包含： - 等等(造紙業) - 久違(紙) - 花蓮(紙) - 台紙(紙) - 智慧(紙) -\n",
       "P板(紙) - 昆山紙業(CNY) - 昆林紙業(CNY) - 纖維製品(CNY) - 合紙(紙)\n",
       "您可以根據您的需要，查詢您感興趣的指標。\n",
       "Score:  0.232\n"
      ],
      "text/plain": [
       "<IPython.core.display.Markdown object>"
      ]
     },
     "metadata": {},
     "output_type": "display_data"
    }
   ],
   "source": [
    "# Query Data from the persisted index\n",
    "query_engine = index.as_retriever(similarity_top_k=3)\n",
    "response = query_engine.retrieve(\"\"\"              \n",
    "哪張表格包含\n",
    "淨利、稅前淨利、稅後淨利\n",
    "\"\"\")\n",
    "display(Markdown(f\"{response[0]}\"))"
   ]
  },
  {
   "cell_type": "code",
   "execution_count": 25,
   "metadata": {},
   "outputs": [
    {
     "data": {
      "text/plain": [
       "[NodeWithScore(node=TextNode(id_='7d4d2ccd-3a81-4b7d-831f-64a1eadd3a6a', embedding=None, metadata={'rowid': 'AAi0soABZAAAACWAAG', 'dashboard_name': '投控經營分析', 'report_name': '華紙-營運績效分析月報', 'page_name': '事業部層', 'pic_name': '事業部層-全廠損益.jpg', 'description': '這張圖片顯示了一份華紙營運績效分析月報，包含了各事業部的相關分析指標。表格中顯示了以下指標：\\n\\n**本月**\\n- 銷售收入\\n- 銷售成本\\n- 銷售毛利\\n- 營業利益\\n- 稅前淨利\\n\\n**全年累計**\\n- 銷售收入\\n- 銷售成本\\n- 銷售毛利\\n- 營業利益\\n- 稅前淨利\\n- 年度預算\\n- 達成率\\n\\n表格中的商品類別包含：\\n- 等等(造紙業)\\n- 久違(紙)\\n- 花蓮(紙)\\n- 台紙(紙)\\n- 智慧(紙)\\n- P板(紙)\\n- 昆山紙業(CNY)\\n- 昆林紙業(CNY)\\n- 纖維製品(CNY)\\n- 合紙(紙)\\n\\n您可以根據您的需要，查詢您感興趣的指標。\\n'}, excluded_embed_metadata_keys=[], excluded_llm_metadata_keys=[], relationships={<NodeRelationship.SOURCE: '1'>: RelatedNodeInfo(node_id='e9a4f944-ea05-4c75-a387-8dc2707e7af0', node_type=<ObjectType.DOCUMENT: '4'>, metadata={'rowid': 'AAi0soABZAAAACWAAG', 'dashboard_name': '投控經營分析', 'report_name': '華紙-營運績效分析月報', 'page_name': '事業部層', 'pic_name': '事業部層-全廠損益.jpg', 'description': '這張圖片顯示了一份華紙營運績效分析月報，包含了各事業部的相關分析指標。表格中顯示了以下指標：\\n\\n**本月**\\n- 銷售收入\\n- 銷售成本\\n- 銷售毛利\\n- 營業利益\\n- 稅前淨利\\n\\n**全年累計**\\n- 銷售收入\\n- 銷售成本\\n- 銷售毛利\\n- 營業利益\\n- 稅前淨利\\n- 年度預算\\n- 達成率\\n\\n表格中的商品類別包含：\\n- 等等(造紙業)\\n- 久違(紙)\\n- 花蓮(紙)\\n- 台紙(紙)\\n- 智慧(紙)\\n- P板(紙)\\n- 昆山紙業(CNY)\\n- 昆林紙業(CNY)\\n- 纖維製品(CNY)\\n- 合紙(紙)\\n\\n您可以根據您的需要，查詢您感興趣的指標。\\n'}, hash='d0d5b692009ba545e37cb680b577edfa80dc6a8b60f21422ab59fb54b6afad1c')}, text='這張圖片顯示了一份華紙營運績效分析月報，包含了各事業部的相關分析指標。表格中顯示了以下指標：\\n\\n**本月**\\n- 銷售收入\\n- 銷售成本\\n- 銷售毛利\\n- 營業利益\\n- 稅前淨利\\n\\n**全年累計**\\n- 銷售收入\\n- 銷售成本\\n- 銷售毛利\\n- 營業利益\\n- 稅前淨利\\n- 年度預算\\n- 達成率\\n\\n表格中的商品類別包含：\\n- 等等(造紙業)\\n- 久違(紙)\\n- 花蓮(紙)\\n- 台紙(紙)\\n- 智慧(紙)\\n- P板(紙)\\n- 昆山紙業(CNY)\\n- 昆林紙業(CNY)\\n- 纖維製品(CNY)\\n- 合紙(紙)\\n\\n您可以根據您的需要，查詢您感興趣的指標。', mimetype='text/plain', start_char_idx=0, end_char_idx=276, text_template='{metadata_str}\\n\\n{content}', metadata_template='{key}: {value}', metadata_seperator='\\n'), score=0.23170027073440314),\n",
       " NodeWithScore(node=TextNode(id_='1b451af3-dce1-40cf-94c3-88ef65b96fd9', embedding=None, metadata={'rowid': 'AAi0soABZAAAACXAAG', 'dashboard_name': '投控經營分析', 'report_name': '華紙-營運績效分析月報', 'page_name': '紙機別損益', 'pic_name': '紙機別損益-完整畫面.jpg', 'description': 'This table shows the monthly operational performance analysis of Hua Shi paper making machine profit and loss.  It includes the following analysis indicators:\\n\\n**Product:** PM1, PM2, PM7, Total, Combined total\\n\\n**Product Types:**  Raw materials, finished products, subtotals \\n\\n**Indicators:**  \\n\\n* Sales revenue\\n* Cost of goods sold\\n* Gross profit\\n* Unit price\\n* Inside cost of goods sold\\n* Inside gross profit\\n* Outside cost of goods sold\\n* Outside gross profit\\n* Gross profit rate\\n* Fixed cost\\n* Sales profit\\n* Sales profit rate\\n* Inventory\\n* Receivables\\n* Fixed asset depreciation\\n* Direct material cost\\n* Variable cost\\n* Total profit and loss\\n\\nYou can use this table to find specific product performance data, such as sales revenue, cost of goods sold, and profit, for each product type. You can also see how each product type has performed over time by comparing the data from different months.\\n\\nFor example, if you are interested in the profit and loss of finished products for PM1, you can find this information in the row labeled \"Finished products\" under the \"PM1\" column. You can also see the sales profit rate and total profit and loss for PM1.\\n\\nThis table is a valuable tool for anyone who wants to understand the operational performance of Hua Shi paper making machine. \\n'}, excluded_embed_metadata_keys=[], excluded_llm_metadata_keys=[], relationships={<NodeRelationship.SOURCE: '1'>: RelatedNodeInfo(node_id='b28f7aa1-56d1-4cfe-8df3-bc1779a8e307', node_type=<ObjectType.DOCUMENT: '4'>, metadata={'rowid': 'AAi0soABZAAAACXAAG', 'dashboard_name': '投控經營分析', 'report_name': '華紙-營運績效分析月報', 'page_name': '紙機別損益', 'pic_name': '紙機別損益-完整畫面.jpg', 'description': 'This table shows the monthly operational performance analysis of Hua Shi paper making machine profit and loss.  It includes the following analysis indicators:\\n\\n**Product:** PM1, PM2, PM7, Total, Combined total\\n\\n**Product Types:**  Raw materials, finished products, subtotals \\n\\n**Indicators:**  \\n\\n* Sales revenue\\n* Cost of goods sold\\n* Gross profit\\n* Unit price\\n* Inside cost of goods sold\\n* Inside gross profit\\n* Outside cost of goods sold\\n* Outside gross profit\\n* Gross profit rate\\n* Fixed cost\\n* Sales profit\\n* Sales profit rate\\n* Inventory\\n* Receivables\\n* Fixed asset depreciation\\n* Direct material cost\\n* Variable cost\\n* Total profit and loss\\n\\nYou can use this table to find specific product performance data, such as sales revenue, cost of goods sold, and profit, for each product type. You can also see how each product type has performed over time by comparing the data from different months.\\n\\nFor example, if you are interested in the profit and loss of finished products for PM1, you can find this information in the row labeled \"Finished products\" under the \"PM1\" column. You can also see the sales profit rate and total profit and loss for PM1.\\n\\nThis table is a valuable tool for anyone who wants to understand the operational performance of Hua Shi paper making machine. \\n'}, hash='cd7005e888861cea08fefc78933e5ce18472e90840d4fabda189df3c6103206a')}, text='This table shows the monthly operational performance analysis of Hua Shi paper making machine profit and loss.  It includes the following analysis indicators:\\n\\n**Product:** PM1, PM2, PM7, Total, Combined total\\n\\n**Product Types:**  Raw materials, finished products, subtotals \\n\\n**Indicators:**  \\n\\n* Sales revenue\\n* Cost of goods sold\\n* Gross profit\\n* Unit price\\n* Inside cost of goods sold\\n* Inside gross profit\\n* Outside cost of goods sold\\n* Outside gross profit\\n* Gross profit rate\\n* Fixed cost\\n* Sales profit\\n* Sales profit rate\\n* Inventory\\n* Receivables\\n* Fixed asset depreciation\\n* Direct material cost\\n* Variable cost\\n* Total profit and loss\\n\\nYou can use this table to find specific product performance data, such as sales revenue, cost of goods sold, and profit, for each product type. You can also see how each product type has performed over time by comparing the data from different months.\\n\\nFor example, if you are interested in the profit and loss of finished products for PM1, you can find this information in the row labeled \"Finished products\" under the \"PM1\" column. You can also see the sales profit rate and total profit and loss for PM1.\\n\\nThis table is a valuable tool for anyone who wants to understand the operational performance of Hua Shi paper making machine.', mimetype='text/plain', start_char_idx=0, end_char_idx=1282, text_template='{metadata_str}\\n\\n{content}', metadata_template='{key}: {value}', metadata_seperator='\\n'), score=0.22634896097092372),\n",
       " NodeWithScore(node=TextNode(id_='b0f9ceda-ce8c-4554-9e86-a24e198c4158', embedding=None, metadata={'rowid': 'AAi0soABZAAAACLAAF', 'dashboard_name': '投控經營分析', 'report_name': '華紙-營運績效分析月報', 'page_name': '號機直接法損益', 'pic_name': '號機直接法損益-完整畫面.jpg', 'description': '這張圖片包含了一份營運績效分析月報，其中包含以下指標：\\n\\n**成本**:\\n* 銷貨成本\\n* 原物料成本\\n* 燃料\\n* 其他成本\\n\\n**銷售**:\\n* 銷貨收入\\n* 營業成本\\n* 營業毛利\\n* 營業費用\\n\\n**費用**:\\n* 製造費用\\n* 銷售費用\\n* 管理費用\\n\\n**淨利**:\\n* 稅前淨利\\n* 稅後淨利\\n\\n**其他**:\\n* 損益表\\n* 損益\\n* 銷售額\\n* 銷貨量\\n* 存貨\\n* 應收帳款\\n* 應付帳款\\n* 固定資產\\n* 流動資產\\n* 負債\\n* 股東權益\\n\\n這些指標可以幫助使用者了解公司在特定時期的財務狀況和營運績效。\\n'}, excluded_embed_metadata_keys=[], excluded_llm_metadata_keys=[], relationships={<NodeRelationship.SOURCE: '1'>: RelatedNodeInfo(node_id='5d4f04ac-5691-4527-bbee-d9a04e0399f2', node_type=<ObjectType.DOCUMENT: '4'>, metadata={'rowid': 'AAi0soABZAAAACLAAF', 'dashboard_name': '投控經營分析', 'report_name': '華紙-營運績效分析月報', 'page_name': '號機直接法損益', 'pic_name': '號機直接法損益-完整畫面.jpg', 'description': '這張圖片包含了一份營運績效分析月報，其中包含以下指標：\\n\\n**成本**:\\n* 銷貨成本\\n* 原物料成本\\n* 燃料\\n* 其他成本\\n\\n**銷售**:\\n* 銷貨收入\\n* 營業成本\\n* 營業毛利\\n* 營業費用\\n\\n**費用**:\\n* 製造費用\\n* 銷售費用\\n* 管理費用\\n\\n**淨利**:\\n* 稅前淨利\\n* 稅後淨利\\n\\n**其他**:\\n* 損益表\\n* 損益\\n* 銷售額\\n* 銷貨量\\n* 存貨\\n* 應收帳款\\n* 應付帳款\\n* 固定資產\\n* 流動資產\\n* 負債\\n* 股東權益\\n\\n這些指標可以幫助使用者了解公司在特定時期的財務狀況和營運績效。\\n'}, hash='ee2533a04ee0087e547ae4c7b151f8e8fc86e47ac52c1386cac2bfc96462f717')}, text='這張圖片包含了一份營運績效分析月報，其中包含以下指標：\\n\\n**成本**:\\n* 銷貨成本\\n* 原物料成本\\n* 燃料\\n* 其他成本\\n\\n**銷售**:\\n* 銷貨收入\\n* 營業成本\\n* 營業毛利\\n* 營業費用\\n\\n**費用**:\\n* 製造費用\\n* 銷售費用\\n* 管理費用\\n\\n**淨利**:\\n* 稅前淨利\\n* 稅後淨利\\n\\n**其他**:\\n* 損益表\\n* 損益\\n* 銷售額\\n* 銷貨量\\n* 存貨\\n* 應收帳款\\n* 應付帳款\\n* 固定資產\\n* 流動資產\\n* 負債\\n* 股東權益\\n\\n這些指標可以幫助使用者了解公司在特定時期的財務狀況和營運績效。', mimetype='text/plain', start_char_idx=0, end_char_idx=263, text_template='{metadata_str}\\n\\n{content}', metadata_template='{key}: {value}', metadata_seperator='\\n'), score=0.22569314601193213)]"
      ]
     },
     "execution_count": 25,
     "metadata": {},
     "output_type": "execute_result"
    }
   ],
   "source": [
    "response"
   ]
  }
 ],
 "metadata": {
  "kernelspec": {
   "display_name": "Cheng_project",
   "language": "python",
   "name": "python3"
  },
  "language_info": {
   "codemirror_mode": {
    "name": "ipython",
    "version": 3
   },
   "file_extension": ".py",
   "mimetype": "text/x-python",
   "name": "python",
   "nbconvert_exporter": "python",
   "pygments_lexer": "ipython3",
   "version": "3.10.14"
  }
 },
 "nbformat": 4,
 "nbformat_minor": 2
}
